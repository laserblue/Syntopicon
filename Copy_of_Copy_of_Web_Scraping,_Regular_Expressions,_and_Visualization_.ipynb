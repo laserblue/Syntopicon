{
  "nbformat": 4,
  "nbformat_minor": 0,
  "metadata": {
    "colab": {
      "name": "Copy of Copy of Web Scraping, Regular Expressions, and Visualization .ipynb",
      "provenance": [],
      "collapsed_sections": [],
      "include_colab_link": true
    },
    "kernelspec": {
      "name": "python3",
      "display_name": "Python 3"
    }
  },
  "cells": [
    {
      "cell_type": "markdown",
      "metadata": {
        "id": "view-in-github",
        "colab_type": "text"
      },
      "source": [
        "<a href=\"https://colab.research.google.com/github/laserblue/Syntopicon/blob/master/Copy_of_Copy_of_Web_Scraping%2C_Regular_Expressions%2C_and_Visualization_.ipynb\" target=\"_parent\"><img src=\"https://colab.research.google.com/assets/colab-badge.svg\" alt=\"Open In Colab\"/></a>"
      ]
    },
    {
      "cell_type": "markdown",
      "metadata": {
        "id": "3ijalAAcDD5C",
        "colab_type": "text"
      },
      "source": [
        "Web Scraping, Regular Expressions, and Data Visualization: Doing it all in Python\n",
        "\n",
        "A Small Real-World Project for Learning Three Invaluable Data Science Skills\n",
        "\n",
        "Will Koehrsen\n",
        "Apr 28, 2018\n",
        "\n",
        "Source: https://towardsdatascience.com/web-scraping-regular-expressions-and-data-visualization-doing-it-all-in-python-37a1aade7924\n",
        "\n",
        "Jupyter Notebook: https://colab.research.google.com/drive/1zjMHPv3H7mV5iLWapiW9IF2yUoY2Jggg\n",
        "\n",
        "\n"
      ]
    },
    {
      "cell_type": "markdown",
      "metadata": {
        "id": "8F-vlK3uAWH1",
        "colab_type": "text"
      },
      "source": [
        "# Introduction\n",
        "\n",
        "This notebook is meant to serve as a small example project of how to get data from the web using Python. Here we will scrape the data from the web, parse the results using regular expressions, and visualize the data. This small project could probably be done a lot more efficiently by hand, but the ideas here are powerful and can be extended to much larger applications. There are many tools that a data scientist will need to use, and web scraping, regular expressions, and visualization are all good techniques to practice! "
      ]
    },
    {
      "cell_type": "markdown",
      "metadata": {
        "id": "YuG1JtCLBU-I",
        "colab_type": "text"
      },
      "source": [
        "# Web Scraping Using Requests and Beautiful Soup (bs4)"
      ]
    },
    {
      "cell_type": "code",
      "metadata": {
        "id": "nAl0C2yPFita",
        "colab_type": "code",
        "colab": {}
      },
      "source": [
        "# requests for fetching html of website\n",
        "import requests\n",
        "\n",
        "# Make the request to a url\n",
        "r = requests.get('http://www.cleveland.com/metro/index.ssf/2017/12/case_western_reserve_university_president_barbara_snyders_base_salary_and_bonus_pay_tops_among_private_colleges_in_ohio.html')\n",
        "\n",
        "# Create soup from content of request\n",
        "c = r.content\n",
        "\n",
        "from bs4 import BeautifulSoup\n",
        "\n",
        "soup = BeautifulSoup(c)"
      ],
      "execution_count": 0,
      "outputs": []
    },
    {
      "cell_type": "markdown",
      "metadata": {
        "id": "YaPgkW1ZBq8e",
        "colab_type": "text"
      },
      "source": [
        "We can find an element on the page by inspecting the page (right click and hit inspect element). We then use a series of HTML selectors to find the appropriate tags which contain the content we are interested in. The next code block finds the main text of the entire article. We will then further subset the text to the relevant table and save it as a text object. "
      ]
    },
    {
      "cell_type": "code",
      "metadata": {
        "id": "owzwg4U1JWwa",
        "colab_type": "code",
        "outputId": "9246d813-96f0-4ad8-ab80-f5c7ce4ceebf",
        "colab": {
          "base_uri": "https://localhost:8080/",
          "height": 54
        }
      },
      "source": [
        "# Find the element on the webpage\n",
        "main_content = soup.find('div', attrs = {'class': 'entry-content'})\n",
        "main_content"
      ],
      "execution_count": 0,
      "outputs": [
        {
          "output_type": "execute_result",
          "data": {
            "text/plain": [
              "<div class=\"entry-content\"> <p class=\"article__paragraph\">CLEVELAND, Ohio - <a href=\"http://www.case.edu/\">Case Western Reserve University </a>President Barbara Snyder's $700,312 base pay and $175,000 bonus in 2015 again made her the highest paid private college leader in Ohio, according to an annual report.</p><p class=\"article__paragraph\">Nationally, Snyder's total compensation of $1.154 million, which can include deferred compensation and other pay, ranked 41st out of 541 presidents of private colleges according to the report by the <a href=\"http://chronicle.com/\">Chronicle of Higher Education.</a></p> <div class=\"ad ad--in-article\" id=\"in-article_AOJSWF2SO5F6NLAFYE77J7FAPI\"></div> <p class=\"article__paragraph\">She is among 58 presidents to earn $1 million or more. The previous year, 39 private college presidents earned more than $1 million.</p><p class=\"article__paragraph\">The Chronicle's <a href=\"https://www.chronicle.com/interactives/executive-compensation#id=table_private_2015\">compensation tables </a>come from a review of federal tax documents from the 2015 calendar year, the most recent available.</p><p class=\"article__paragraph\">Former University of Dayton President Daniel Curran, who left in 2016, ranked eighth in the U.S. with a total compensation of $2.44 million, but $1.66 million of that was in other pay, which was likely deferred compensation awarded after he announced his retirement. His total pay in 2014 was $771,354.</p><p class=\"article__paragraph\">Following is total compensation for other presidents at private colleges in Ohio in 2015:</p><ul class=\"article__unordered-list\"> <li class=\"article__unordered-list-item\">Grant Cornwell, College of Wooster (left in 2015): $911,651</li> <li class=\"article__unordered-list-item\">Marvin Krislov, Oberlin College (left in 2016):  $829,913</li> <li class=\"article__unordered-list-item\">Mark Roosevelt, Antioch College, (left in 2015): $507,672</li> <li class=\"article__unordered-list-item\">Laurie Joyner, Wittenberg University (left in 2015): $463,504</li> <li class=\"article__unordered-list-item\">Richard Giese, University of Mount Union (left in 2015): $453,800</li> <li class=\"article__unordered-list-item\">Sean Decatur,Kenyon College: $451,698</li> <li class=\"article__unordered-list-item\">Adam Weinberg, Denison University: $435,322</li> <li class=\"article__unordered-list-item\">Daniel Dibiasio, Ohio Northern University: $414,716</li> <li class=\"article__unordered-list-item\">Denvy Bowman, Capital University (left in 2016): $388,570</li> <li class=\"article__unordered-list-item\">Anne Steele, Muskingum University (left in 2016): $384,233</li> <li class=\"article__unordered-list-item\">Kathy Krendl, Otterbein University:  $378,035</li> <li class=\"article__unordered-list-item\">Rockwell Jones, Ohio Wesleyan University: $366,625</li> <li class=\"article__unordered-list-item\">Robert Helmer, Baldwin Wallace University: $365,616</li> <li class=\"article__unordered-list-item\">Robert Huntington, Heidelberg University: $300,005</li> <li class=\"article__unordered-list-item\">Lori Varlotta, Hiram College: $293,336</li> <li class=\"article__unordered-list-item\">Joseph Bruno, Marietta College (left in 2016): $288,295</li> <li class=\"article__unordered-list-item\">W. Richard Merriman Jr., University of Mount Union (started in June 2015): $221,761</li> </ul> <p class=\"article__paragraph\">The Rev. Robert Niehoff, president of John Carroll University (retired in 2017), Rev. Sean Sheridan of  Franciscan University of Steubenville and Rev. Michael Graham Xavier University do not take salaries.</p><p class=\"article__paragraph\">See the full list of presidents at <a href=\"http://www.chronicle.com/compensation\">chronicle.com/compensation.</a></p><p class=\"article__paragraph\">The Chronicle's list of pay for public college presidents was released in July.</p><div class=\"rawhtml\"><a href=\"http://www.cleveland.com/metro/index.ssf/2017/06/ohio_state_university_presiden_6.html\">Ohio State University President Michael Drake is 7th highest paid U.S. public college president</a></div> <p class=\"article__paragraph\">Ohio State President Michael Drake, with a total compensation of $1.03 million, was one of eight presidents who earned $1 million or more in the 2015-16 fiscal year.</p> <div class=\"ad ad--in-article\" id=\"in-article_FXUGCLQM3VGPHBZIYHU7QYIX7M\"></div> <p class=\"article__paragraph\">But when compared to Ohio State's 2014 annual $5.2 billion operating budget, Drake's pay per million in expenses is $199 -- among the lowest for presidents.</p><p class=\"article__paragraph\">By comparison, Cleveland State University President Ronald Berkman, whose total compensation was $641,817, oversaw an annual operating budget of $300.3 million in 2014. His pay per million in expenses was $2,127.</p><p class=\"article__paragraph\">Kent State University President Beverly Warren's pay per million in expenses was $1,006. Her total compensation was $560,659 and she oversaw an annual operating budget of $557.4 million in 2014.</p><p class=\"article__paragraph\">The<a href=\"http://www.chronicle.com/interactives/executive-compensation\"> Chronicle's analysis </a>was based on 254 presidents from 221 colleges.</p><p class=\"article__paragraph\">According to the Chronicle:</p><ul class=\"article__unordered-list\"> <li class=\"article__unordered-list-item\">The average pay of private college presidents who served the full year in 2015 was $569,932, up 9 percent over presidents who served a full year in 2014.</li> <li class=\"article__unordered-list-item\">Nine of the 10 highest-paid chief executives earned more from bonuses and deferred compensation than they did from base salaries.</li> <li class=\"article__unordered-list-item\">The analysis is based on the latest available federal tax filings of the 500 private, nonprofit colleges with the largest endowments. The data include compensation figures for 568 presidents who served at 500 institutions for all or part of 2015. There were 352 presidents who served all of 2014 and 2015.</li> <li class=\"article__unordered-list-item\">The number of presidents earning over $1 million is attributed, in part, to a market where presidents are negotiating more deferred compensation and bonus packages before they take the job.</li> <li class=\"article__unordered-list-item\">The top two earners, Wake Forest University President Nathan Hatch ($4 million) and former Emory University President James Wagner ($3.5 million) were each paid more than $2 million in deferred compensation in 2015.</li> </ul> <p class=\"article__paragraph\">The Chronicle also compares pay to presidents in context of their colleges, including looking at each institution's expenses, average tuition and fees and professor salaries.</p></div>"
            ]
          },
          "metadata": {
            "tags": []
          },
          "execution_count": 3
        }
      ]
    },
    {
      "cell_type": "code",
      "metadata": {
        "id": "bTYLGSParbOH",
        "colab_type": "code",
        "outputId": "fb2a8e6e-5ae9-447a-81fd-a12a29a2d53a",
        "colab": {
          "base_uri": "https://localhost:8080/",
          "height": 238
        }
      },
      "source": [
        "#import unicodedata\n",
        "\n",
        "# Extract the relevant information\n",
        "content = main_content.find('ul').text\n",
        "#dirty_text = main_content.find('ul').text\n",
        "\n",
        "# remove '\\xa0' nonbreaking space in front of salary for Marvin Krislov\n",
        "#text_string = BeautifulSoup(dirty_text, \"lxml\").text\n",
        "#content = unicodedata.normalize(\"NFKD\",text_string)\n",
        "\n",
        "import pprint\n",
        "pprint.pprint(content)"
      ],
      "execution_count": 0,
      "outputs": [
        {
          "output_type": "stream",
          "text": [
            "(' Grant Cornwell, College of Wooster (left in 2015): $911,651 Marvin Krislov, '\n",
            " 'Oberlin College (left in 2016): \\xa0$829,913 Mark Roosevelt, Antioch '\n",
            " 'College, (left in 2015): $507,672 Laurie Joyner, Wittenberg University (left '\n",
            " 'in 2015): $463,504 Richard Giese, University of Mount Union (left in 2015): '\n",
            " '$453,800 Sean Decatur,Kenyon College: $451,698 Adam Weinberg, Denison '\n",
            " 'University: $435,322 Daniel Dibiasio, Ohio Northern University: $414,716 '\n",
            " 'Denvy Bowman, Capital University (left in 2016): $388,570 Anne Steele, '\n",
            " 'Muskingum University (left in 2016): $384,233 Kathy Krendl, Otterbein '\n",
            " 'University: \\xa0$378,035 Rockwell Jones, Ohio Wesleyan University: $366,625 '\n",
            " 'Robert Helmer, Baldwin Wallace University: $365,616 Robert Huntington, '\n",
            " 'Heidelberg University: $300,005 Lori Varlotta, Hiram College: $293,336 '\n",
            " 'Joseph Bruno, Marietta College (left in 2016): $288,295 W. Richard Merriman '\n",
            " 'Jr., University of Mount Union (started in June 2015): $221,761 ')\n"
          ],
          "name": "stdout"
        }
      ]
    },
    {
      "cell_type": "markdown",
      "metadata": {
        "id": "vusj0xMpCNdn",
        "colab_type": "text"
      },
      "source": [
        "We now have the data we need to focus on as a text string. The next step is to parse this information using regular expressions to identify the presidents, colleges, and salaries. Regular Expressions are intimidating at first, and require practice to learn to use effectively. I am definitely not an expert, and am using this project partly to get more familiar with regular expressions. The best place to get started is simply with the [Python Documentation](https://docs.python.org/3/library/re.html) for the `re` library."
      ]
    },
    {
      "cell_type": "markdown",
      "metadata": {
        "id": "VMeuScw5szZl",
        "colab_type": "text"
      },
      "source": [
        "# Regular Expressions Using `re`"
      ]
    },
    {
      "cell_type": "markdown",
      "metadata": {
        "id": "n47-KjvBQTBy",
        "colab_type": "text"
      },
      "source": [
        "Tutorial help with Regular Expressions: https://regexone.com/\n"
      ]
    },
    {
      "cell_type": "markdown",
      "metadata": {
        "id": "9QE7mDVGs2vo",
        "colab_type": "text"
      },
      "source": [
        "## Presidents\n",
        "\n",
        "First we want to extract the names of the presidents. We do this taking advantage of the fact that the names come at the beginning of each newline. We therefore use an expression in the multiline mode, which treats every newline character as the end of the string (so the next character is the start of a string). The names also all end with a comma, so we can use this to bound the names. "
      ]
    },
    {
      "cell_type": "code",
      "metadata": {
        "id": "U0MUZA5eOy9s",
        "colab_type": "code",
        "outputId": "616054f7-d783-4ce5-c25a-61e69b35d7fa",
        "colab": {
          "base_uri": "https://localhost:8080/",
          "height": 34
        }
      },
      "source": [
        "import re\n",
        "\n",
        "# Create a pattern to match names\n",
        "name_pattern = re.compile(r'^\\s([A-Z]{1}.+?)(?:,)', flags = re.M) # original pattern returns only first name due to leading space \n",
        "# name_pattern = re.compile(r'^\\s([A-Z]{1}.+?)(?:,)', flags = re.M)\n",
        "# name_pattern = re.compile(r'([A-Z]{1}.+?)(?:,)', flags = re.M) # gets the names but also institutions\n",
        "# name_pattern = re.compile(r'^([A-Z]{1}.+?)(?:,)', flags = re.M)\n",
        "name_pattern.findall(content)"
      ],
      "execution_count": 0,
      "outputs": [
        {
          "output_type": "execute_result",
          "data": {
            "text/plain": [
              "['Grant Cornwell']"
            ]
          },
          "metadata": {
            "tags": []
          },
          "execution_count": 13
        }
      ]
    },
    {
      "cell_type": "code",
      "metadata": {
        "id": "7wL_BHOGQC2w",
        "colab_type": "code",
        "outputId": "3cedd6b1-13e6-415d-d36d-7310495ad64d",
        "colab": {
          "base_uri": "https://localhost:8080/",
          "height": 34
        }
      },
      "source": [
        "names = name_pattern.findall(content)\n",
        "print(len(names))"
      ],
      "execution_count": 0,
      "outputs": [
        {
          "output_type": "stream",
          "text": [
            "34\n"
          ],
          "name": "stdout"
        }
      ]
    },
    {
      "cell_type": "markdown",
      "metadata": {
        "id": "SnfSRd9ks9Aa",
        "colab_type": "text"
      },
      "source": [
        "## Colleges\n",
        "\n",
        "The next piece of information to extract is the name of the schools. We can use the fact that each school name is preceded either by a comma (Kenyon College) or a comma and a space (I don't think this was intentional, but we can handle it). Each school name ends with a colon `:` or with a space and a left parenthesis ` (` or with a comma `,`. We use both of these to bound the college expression and extract the useful information. "
      ]
    },
    {
      "cell_type": "code",
      "metadata": {
        "id": "BpI3uEHoP3X-",
        "colab_type": "code",
        "outputId": "1235e970-1bdb-4551-c109-3dff7df195e2",
        "colab": {
          "base_uri": "https://localhost:8080/",
          "height": 238
        }
      },
      "source": [
        "# Remind ourselves what our soup looks like\n",
        "pprint.pprint(content)"
      ],
      "execution_count": 0,
      "outputs": [
        {
          "output_type": "stream",
          "text": [
            "(' Grant Cornwell, College of Wooster (left in 2015): $911,651 Marvin Krislov, '\n",
            " 'Oberlin College (left in 2016): \\xa0$829,913 Mark Roosevelt, Antioch '\n",
            " 'College, (left in 2015): $507,672 Laurie Joyner, Wittenberg University (left '\n",
            " 'in 2015): $463,504 Richard Giese, University of Mount Union (left in 2015): '\n",
            " '$453,800 Sean Decatur,Kenyon College: $451,698 Adam Weinberg, Denison '\n",
            " 'University: $435,322 Daniel Dibiasio, Ohio Northern University: $414,716 '\n",
            " 'Denvy Bowman, Capital University (left in 2016): $388,570 Anne Steele, '\n",
            " 'Muskingum University (left in 2016): $384,233 Kathy Krendl, Otterbein '\n",
            " 'University: \\xa0$378,035 Rockwell Jones, Ohio Wesleyan University: $366,625 '\n",
            " 'Robert Helmer, Baldwin Wallace University: $365,616 Robert Huntington, '\n",
            " 'Heidelberg University: $300,005 Lori Varlotta, Hiram College: $293,336 '\n",
            " 'Joseph Bruno, Marietta College (left in 2016): $288,295 W. Richard Merriman '\n",
            " 'Jr., University of Mount Union (started in June 2015): $221,761 ')\n"
          ],
          "name": "stdout"
        }
      ]
    },
    {
      "cell_type": "code",
      "metadata": {
        "id": "LiDpUp7IJ8LY",
        "colab_type": "code",
        "outputId": "bf0c1f27-95f1-42c6-f7be-c119a5efc690",
        "colab": {
          "base_uri": "https://localhost:8080/",
          "height": 306
        }
      },
      "source": [
        "# Make school patttern and examine results\n",
        "school_pattern = re.compile(r'(?:,|,\\s)([A-Z]{1}.*?)(?:\\s\\(|:|,)')\n",
        "school_pattern.findall(content)"
      ],
      "execution_count": 0,
      "outputs": [
        {
          "output_type": "execute_result",
          "data": {
            "text/plain": [
              "['College of Wooster',\n",
              " 'Oberlin College',\n",
              " 'Antioch College',\n",
              " 'Wittenberg University',\n",
              " 'University of Mount Union',\n",
              " 'Kenyon College',\n",
              " 'Denison University',\n",
              " 'Ohio Northern University',\n",
              " 'Capital University',\n",
              " 'Muskingum University',\n",
              " 'Otterbein University',\n",
              " 'Ohio Wesleyan University',\n",
              " 'Baldwin Wallace University',\n",
              " 'Heidelberg University',\n",
              " 'Hiram College',\n",
              " 'Marietta College',\n",
              " 'University of Mount Union']"
            ]
          },
          "metadata": {
            "tags": []
          },
          "execution_count": 8
        }
      ]
    },
    {
      "cell_type": "code",
      "metadata": {
        "id": "qVArEMqRRhcs",
        "colab_type": "code",
        "outputId": "ad01eacc-7b3e-4669-a84c-1630ac37fd11",
        "colab": {
          "base_uri": "https://localhost:8080/",
          "height": 34
        }
      },
      "source": [
        "# Extract the schools\n",
        "schools = school_pattern.findall(content)\n",
        "print(len(schools))"
      ],
      "execution_count": 0,
      "outputs": [
        {
          "output_type": "stream",
          "text": [
            "17\n"
          ],
          "name": "stdout"
        }
      ]
    },
    {
      "cell_type": "markdown",
      "metadata": {
        "id": "UH8jq4O8tI7c",
        "colab_type": "text"
      },
      "source": [
        "## Salaries\n",
        "\n",
        "Finally, we need to get the salaries. This is relatively easy because all of the salaries are preceded by a dollar sign. Once we have extract the salaries as strings, we can use a Python list comprehension to remove the $ , and convert the string to a float. This uses a few Python shortcuts, and I like how elegant the list comprehension is. Writing Python can really be a joy! "
      ]
    },
    {
      "cell_type": "code",
      "metadata": {
        "id": "tcIb831uSiii",
        "colab_type": "code",
        "outputId": "1f09403a-d3dd-42a1-e0a9-0ba38ae3aeb3",
        "colab": {
          "base_uri": "https://localhost:8080/",
          "height": 306
        }
      },
      "source": [
        "# Pattern to match the salaries\n",
        "salary_pattern = re.compile(r'\\$[0-9,.]+')\n",
        "\n",
        "salary_pattern.findall(content)"
      ],
      "execution_count": 0,
      "outputs": [
        {
          "output_type": "execute_result",
          "data": {
            "text/plain": [
              "['$911,651',\n",
              " '$829,913',\n",
              " '$507,672',\n",
              " '$463,504',\n",
              " '$453,800',\n",
              " '$451,698',\n",
              " '$435,322',\n",
              " '$414,716',\n",
              " '$388,570',\n",
              " '$384,233',\n",
              " '$378,035',\n",
              " '$366,625',\n",
              " '$365,616',\n",
              " '$300,005',\n",
              " '$293,336',\n",
              " '$288,295',\n",
              " '$221,761']"
            ]
          },
          "metadata": {
            "tags": []
          },
          "execution_count": 10
        }
      ]
    },
    {
      "cell_type": "markdown",
      "metadata": {
        "id": "9cMR7Z_2tSSw",
        "colab_type": "text"
      },
      "source": [
        "### Converting Dollar Strings to Numbers\n",
        "\n",
        "First we can see a brief example of each of the steps in the list comprehension. We use the `split` method to split each string into two separate strings at the comma (starting with the first character after the $). Then, we `join`, the two strings together with no separating character and convert the result to a float. All of this is wrapped in a list comprehension. The end result is a list of numeric values representing the Presidents' salaries."
      ]
    },
    {
      "cell_type": "code",
      "metadata": {
        "id": "P4f2TmO2E-D4",
        "colab_type": "code",
        "outputId": "fedd72ac-d998-4282-82fd-12b352fb2bc7",
        "colab": {
          "base_uri": "https://localhost:8080/",
          "height": 34
        }
      },
      "source": [
        "# Messy salary\n",
        "salary = '$876,001'\n",
        "\n",
        "# Exclude the $ and split the string on the comma\n",
        "salary[1:].split(',')"
      ],
      "execution_count": 0,
      "outputs": [
        {
          "output_type": "execute_result",
          "data": {
            "text/plain": [
              "['876', '001']"
            ]
          },
          "metadata": {
            "tags": []
          },
          "execution_count": 42
        }
      ]
    },
    {
      "cell_type": "code",
      "metadata": {
        "id": "7Hndq4TAFJWI",
        "colab_type": "code",
        "outputId": "47113d50-ba3b-4031-8215-5ce941bc2bf9",
        "colab": {
          "base_uri": "https://localhost:8080/",
          "height": 34
        }
      },
      "source": [
        "# Same operation but now join the list with no space\n",
        "''.join(salary[1:].split(','))"
      ],
      "execution_count": 0,
      "outputs": [
        {
          "output_type": "execute_result",
          "data": {
            "text/plain": [
              "'876001'"
            ]
          },
          "metadata": {
            "tags": []
          },
          "execution_count": 43
        }
      ]
    },
    {
      "cell_type": "code",
      "metadata": {
        "id": "XKzwukqRFXvY",
        "colab_type": "code",
        "outputId": "6b245707-50a4-4681-cd50-b1617a9f9fb8",
        "colab": {
          "base_uri": "https://localhost:8080/",
          "height": 34
        }
      },
      "source": [
        "# Finally convert the string to a float\n",
        "float(''.join(salary[1:].split(',')))"
      ],
      "execution_count": 0,
      "outputs": [
        {
          "output_type": "execute_result",
          "data": {
            "text/plain": [
              "876001.0"
            ]
          },
          "metadata": {
            "tags": []
          },
          "execution_count": 44
        }
      ]
    },
    {
      "cell_type": "markdown",
      "metadata": {
        "id": "7Kf6u5poFdNQ",
        "colab_type": "text"
      },
      "source": [
        "#### Example List Comprehension to Test Method"
      ]
    },
    {
      "cell_type": "code",
      "metadata": {
        "id": "S9rfMCTyVWbQ",
        "colab_type": "code",
        "outputId": "010d1576-cc58-4f5d-ddb0-4d43f5d01b92",
        "colab": {
          "base_uri": "https://localhost:8080/",
          "height": 34
        }
      },
      "source": [
        "# Messy salaries\n",
        "salaries = ['$876,001', '$543,903', '$2453,896']\n",
        "\n",
        "# Convert salaries to numbers using the above procedure in a list comprehension \n",
        "[int(''.join(s[1:].split(','))) for s in salaries]"
      ],
      "execution_count": 0,
      "outputs": [
        {
          "output_type": "execute_result",
          "data": {
            "text/plain": [
              "[876001, 543903, 2453896]"
            ]
          },
          "metadata": {
            "tags": []
          },
          "execution_count": 45
        }
      ]
    },
    {
      "cell_type": "code",
      "metadata": {
        "id": "O6-YQ_wjT8Ji",
        "colab_type": "code",
        "outputId": "bfbe97f4-7680-4488-cdf1-cc42cf5c6701",
        "colab": {
          "base_uri": "https://localhost:8080/",
          "height": 71
        }
      },
      "source": [
        "# Extract all the salaries and convert to integers\n",
        "salaries = salary_pattern.findall(content)\n",
        "print(salaries)\n",
        "print(len(salaries))\n",
        "\n",
        "# List comprehension to convert strings to floats\n",
        "#salaries = [int(''.join(s[1:].split(','))) for s in salaries]\n",
        "#print(salaries)"
      ],
      "execution_count": 0,
      "outputs": [
        {
          "output_type": "stream",
          "text": [
            "['$911,651', '$829,913', '$507,672', '$463,504', '$453,800', '$451,698', '$435,322', '$414,716', '$388,570', '$384,233', '$378,035', '$366,625', '$365,616', '$300,005', '$293,336', '$288,295', '$221,761']\n",
            "17\n"
          ],
          "name": "stdout"
        }
      ]
    },
    {
      "cell_type": "code",
      "metadata": {
        "id": "f84SCQCzUaim",
        "colab_type": "code",
        "colab": {}
      },
      "source": [
        "salaries"
      ],
      "execution_count": 0,
      "outputs": []
    },
    {
      "cell_type": "code",
      "metadata": {
        "id": "2Z40AFYOP1_M",
        "colab_type": "code",
        "outputId": "1a2e38c2-0b6b-4ceb-b6b3-d4f220dc29c3",
        "colab": {
          "base_uri": "https://localhost:8080/",
          "height": 34
        }
      },
      "source": [
        "# Sanity check to make sure everything is correct!\n",
        "len(names) == len(schools) == len(salaries)"
      ],
      "execution_count": 0,
      "outputs": [
        {
          "output_type": "execute_result",
          "data": {
            "text/plain": [
              "False"
            ]
          },
          "metadata": {
            "tags": []
          },
          "execution_count": 54
        }
      ]
    },
    {
      "cell_type": "markdown",
      "metadata": {
        "id": "SkpO7ODMte0D",
        "colab_type": "text"
      },
      "source": [
        "# Visualization \n",
        "\n",
        "We will use the `matplotlib` and `seaborn` libraries for visualizing the results. `matplotlib` is great for creating quick visualizations, and I like the aesthetic style of `seaborn`. We'll start off by storing the data in a `pandas` dataframe, the common data structure of choice for data science.\n",
        "\n",
        "Here I am manually adding in my President's information to the dataframe. Sometimes knowing when it is faster to just do something by hand rather than writing a complicated program is a vital skill in data science."
      ]
    },
    {
      "cell_type": "code",
      "metadata": {
        "id": "y25EZdiHUmt6",
        "colab_type": "code",
        "outputId": "cb192c04-6768-4d5d-939a-6d001830238e",
        "colab": {
          "base_uri": "https://localhost:8080/",
          "height": 375
        }
      },
      "source": [
        "import pandas as pd\n",
        "\n",
        "# Put information into a dataframe\n",
        "df = pd.DataFrame({'salary': salaries, \n",
        "                   'President': names,\n",
        "                   'College': schools})\n",
        "\n",
        "# Append information\n",
        "df.loc[17, :] = ['CWRU', 'Barbara Synder', 1154000]\n",
        "\n",
        "# Sort the values by highest to lowest salary\n",
        "df = df.sort_values('salary', ascending=False).reset_index().drop(columns='index')"
      ],
      "execution_count": 0,
      "outputs": [
        {
          "output_type": "error",
          "ename": "ValueError",
          "evalue": "ignored",
          "traceback": [
            "\u001b[0;31m---------------------------------------------------------------------------\u001b[0m",
            "\u001b[0;31mValueError\u001b[0m                                Traceback (most recent call last)",
            "\u001b[0;32m<ipython-input-15-7e1bbb5bb86a>\u001b[0m in \u001b[0;36m<module>\u001b[0;34m()\u001b[0m\n\u001b[1;32m      4\u001b[0m df = pd.DataFrame({'salary': salaries, \n\u001b[1;32m      5\u001b[0m                    \u001b[0;34m'President'\u001b[0m\u001b[0;34m:\u001b[0m \u001b[0mnames\u001b[0m\u001b[0;34m,\u001b[0m\u001b[0;34m\u001b[0m\u001b[0;34m\u001b[0m\u001b[0m\n\u001b[0;32m----> 6\u001b[0;31m                    'College': schools})\n\u001b[0m\u001b[1;32m      7\u001b[0m \u001b[0;34m\u001b[0m\u001b[0m\n\u001b[1;32m      8\u001b[0m \u001b[0;31m# Append information\u001b[0m\u001b[0;34m\u001b[0m\u001b[0;34m\u001b[0m\u001b[0;34m\u001b[0m\u001b[0m\n",
            "\u001b[0;32m/usr/local/lib/python3.6/dist-packages/pandas/core/frame.py\u001b[0m in \u001b[0;36m__init__\u001b[0;34m(self, data, index, columns, dtype, copy)\u001b[0m\n\u001b[1;32m    390\u001b[0m                                  dtype=dtype, copy=copy)\n\u001b[1;32m    391\u001b[0m         \u001b[0;32melif\u001b[0m \u001b[0misinstance\u001b[0m\u001b[0;34m(\u001b[0m\u001b[0mdata\u001b[0m\u001b[0;34m,\u001b[0m \u001b[0mdict\u001b[0m\u001b[0;34m)\u001b[0m\u001b[0;34m:\u001b[0m\u001b[0;34m\u001b[0m\u001b[0;34m\u001b[0m\u001b[0m\n\u001b[0;32m--> 392\u001b[0;31m             \u001b[0mmgr\u001b[0m \u001b[0;34m=\u001b[0m \u001b[0minit_dict\u001b[0m\u001b[0;34m(\u001b[0m\u001b[0mdata\u001b[0m\u001b[0;34m,\u001b[0m \u001b[0mindex\u001b[0m\u001b[0;34m,\u001b[0m \u001b[0mcolumns\u001b[0m\u001b[0;34m,\u001b[0m \u001b[0mdtype\u001b[0m\u001b[0;34m=\u001b[0m\u001b[0mdtype\u001b[0m\u001b[0;34m)\u001b[0m\u001b[0;34m\u001b[0m\u001b[0;34m\u001b[0m\u001b[0m\n\u001b[0m\u001b[1;32m    393\u001b[0m         \u001b[0;32melif\u001b[0m \u001b[0misinstance\u001b[0m\u001b[0;34m(\u001b[0m\u001b[0mdata\u001b[0m\u001b[0;34m,\u001b[0m \u001b[0mma\u001b[0m\u001b[0;34m.\u001b[0m\u001b[0mMaskedArray\u001b[0m\u001b[0;34m)\u001b[0m\u001b[0;34m:\u001b[0m\u001b[0;34m\u001b[0m\u001b[0;34m\u001b[0m\u001b[0m\n\u001b[1;32m    394\u001b[0m             \u001b[0;32mimport\u001b[0m \u001b[0mnumpy\u001b[0m\u001b[0;34m.\u001b[0m\u001b[0mma\u001b[0m\u001b[0;34m.\u001b[0m\u001b[0mmrecords\u001b[0m \u001b[0;32mas\u001b[0m \u001b[0mmrecords\u001b[0m\u001b[0;34m\u001b[0m\u001b[0;34m\u001b[0m\u001b[0m\n",
            "\u001b[0;32m/usr/local/lib/python3.6/dist-packages/pandas/core/internals/construction.py\u001b[0m in \u001b[0;36minit_dict\u001b[0;34m(data, index, columns, dtype)\u001b[0m\n\u001b[1;32m    210\u001b[0m         \u001b[0marrays\u001b[0m \u001b[0;34m=\u001b[0m \u001b[0;34m[\u001b[0m\u001b[0mdata\u001b[0m\u001b[0;34m[\u001b[0m\u001b[0mk\u001b[0m\u001b[0;34m]\u001b[0m \u001b[0;32mfor\u001b[0m \u001b[0mk\u001b[0m \u001b[0;32min\u001b[0m \u001b[0mkeys\u001b[0m\u001b[0;34m]\u001b[0m\u001b[0;34m\u001b[0m\u001b[0;34m\u001b[0m\u001b[0m\n\u001b[1;32m    211\u001b[0m \u001b[0;34m\u001b[0m\u001b[0m\n\u001b[0;32m--> 212\u001b[0;31m     \u001b[0;32mreturn\u001b[0m \u001b[0marrays_to_mgr\u001b[0m\u001b[0;34m(\u001b[0m\u001b[0marrays\u001b[0m\u001b[0;34m,\u001b[0m \u001b[0mdata_names\u001b[0m\u001b[0;34m,\u001b[0m \u001b[0mindex\u001b[0m\u001b[0;34m,\u001b[0m \u001b[0mcolumns\u001b[0m\u001b[0;34m,\u001b[0m \u001b[0mdtype\u001b[0m\u001b[0;34m=\u001b[0m\u001b[0mdtype\u001b[0m\u001b[0;34m)\u001b[0m\u001b[0;34m\u001b[0m\u001b[0;34m\u001b[0m\u001b[0m\n\u001b[0m\u001b[1;32m    213\u001b[0m \u001b[0;34m\u001b[0m\u001b[0m\n\u001b[1;32m    214\u001b[0m \u001b[0;34m\u001b[0m\u001b[0m\n",
            "\u001b[0;32m/usr/local/lib/python3.6/dist-packages/pandas/core/internals/construction.py\u001b[0m in \u001b[0;36marrays_to_mgr\u001b[0;34m(arrays, arr_names, index, columns, dtype)\u001b[0m\n\u001b[1;32m     49\u001b[0m     \u001b[0;31m# figure out the index, if necessary\u001b[0m\u001b[0;34m\u001b[0m\u001b[0;34m\u001b[0m\u001b[0;34m\u001b[0m\u001b[0m\n\u001b[1;32m     50\u001b[0m     \u001b[0;32mif\u001b[0m \u001b[0mindex\u001b[0m \u001b[0;32mis\u001b[0m \u001b[0;32mNone\u001b[0m\u001b[0;34m:\u001b[0m\u001b[0;34m\u001b[0m\u001b[0;34m\u001b[0m\u001b[0m\n\u001b[0;32m---> 51\u001b[0;31m         \u001b[0mindex\u001b[0m \u001b[0;34m=\u001b[0m \u001b[0mextract_index\u001b[0m\u001b[0;34m(\u001b[0m\u001b[0marrays\u001b[0m\u001b[0;34m)\u001b[0m\u001b[0;34m\u001b[0m\u001b[0;34m\u001b[0m\u001b[0m\n\u001b[0m\u001b[1;32m     52\u001b[0m     \u001b[0;32melse\u001b[0m\u001b[0;34m:\u001b[0m\u001b[0;34m\u001b[0m\u001b[0;34m\u001b[0m\u001b[0m\n\u001b[1;32m     53\u001b[0m         \u001b[0mindex\u001b[0m \u001b[0;34m=\u001b[0m \u001b[0mensure_index\u001b[0m\u001b[0;34m(\u001b[0m\u001b[0mindex\u001b[0m\u001b[0;34m)\u001b[0m\u001b[0;34m\u001b[0m\u001b[0;34m\u001b[0m\u001b[0m\n",
            "\u001b[0;32m/usr/local/lib/python3.6/dist-packages/pandas/core/internals/construction.py\u001b[0m in \u001b[0;36mextract_index\u001b[0;34m(data)\u001b[0m\n\u001b[1;32m    315\u001b[0m             \u001b[0mlengths\u001b[0m \u001b[0;34m=\u001b[0m \u001b[0mlist\u001b[0m\u001b[0;34m(\u001b[0m\u001b[0mset\u001b[0m\u001b[0;34m(\u001b[0m\u001b[0mraw_lengths\u001b[0m\u001b[0;34m)\u001b[0m\u001b[0;34m)\u001b[0m\u001b[0;34m\u001b[0m\u001b[0;34m\u001b[0m\u001b[0m\n\u001b[1;32m    316\u001b[0m             \u001b[0;32mif\u001b[0m \u001b[0mlen\u001b[0m\u001b[0;34m(\u001b[0m\u001b[0mlengths\u001b[0m\u001b[0;34m)\u001b[0m \u001b[0;34m>\u001b[0m \u001b[0;36m1\u001b[0m\u001b[0;34m:\u001b[0m\u001b[0;34m\u001b[0m\u001b[0;34m\u001b[0m\u001b[0m\n\u001b[0;32m--> 317\u001b[0;31m                 \u001b[0;32mraise\u001b[0m \u001b[0mValueError\u001b[0m\u001b[0;34m(\u001b[0m\u001b[0;34m'arrays must all be same length'\u001b[0m\u001b[0;34m)\u001b[0m\u001b[0;34m\u001b[0m\u001b[0;34m\u001b[0m\u001b[0m\n\u001b[0m\u001b[1;32m    318\u001b[0m \u001b[0;34m\u001b[0m\u001b[0m\n\u001b[1;32m    319\u001b[0m             \u001b[0;32mif\u001b[0m \u001b[0mhave_dicts\u001b[0m\u001b[0;34m:\u001b[0m\u001b[0;34m\u001b[0m\u001b[0;34m\u001b[0m\u001b[0m\n",
            "\u001b[0;31mValueError\u001b[0m: arrays must all be same length"
          ]
        }
      ]
    },
    {
      "cell_type": "code",
      "metadata": {
        "id": "j887NjcRt0No",
        "colab_type": "code",
        "colab": {}
      },
      "source": [
        "df"
      ],
      "execution_count": 0,
      "outputs": []
    },
    {
      "cell_type": "markdown",
      "metadata": {
        "id": "6thdceSxt9-0",
        "colab_type": "text"
      },
      "source": [
        "## Quick First Visualization\n",
        "\n",
        "We can use plotting functionality built into pandas to rapidly create an initial figure. This at least conveys the information although it does not look very nice! "
      ]
    },
    {
      "cell_type": "code",
      "metadata": {
        "id": "4zc1dqY0ZlrS",
        "colab_type": "code",
        "colab": {}
      },
      "source": [
        "df.plot(kind='barh', x = 'President', y = 'salary');"
      ],
      "execution_count": 0,
      "outputs": []
    },
    {
      "cell_type": "markdown",
      "metadata": {
        "id": "HYD2lStbuChr",
        "colab_type": "text"
      },
      "source": [
        "## Improve the Plot\n",
        "\n",
        "Now comes an iterative procedure of improving the graphic. A lot of this involves using Stack Overflow and the [seaborn documentation](https://seaborn.pydata.org/generated/seaborn.barplot.html) to figure out how to make the plot look exactly like we want it. Plotting syntax often is pretty complicated, but don't worry about the specifics. You will always be able to look these up or build on old plots you or others made."
      ]
    },
    {
      "cell_type": "code",
      "metadata": {
        "id": "LvceG6InaGDU",
        "colab_type": "code",
        "colab": {}
      },
      "source": [
        "import matplotlib.pyplot as plt\n",
        "%matplotlib inline\n",
        "\n",
        "# Pick a style\n",
        "plt.style.use('fivethirtyeight')\n",
        "plt.rcParams['font.size'] = 16\n",
        "\n",
        "import seaborn as sns\n",
        "\n",
        "# Sort the values by highest to lowest salary\n",
        "df = df.sort_values('salary', ascending=False).reset_index()\n",
        "\n",
        "# Shorten this one name for plotting\n",
        "df.ix[df['College'] == 'University of Mount Union', 'College'] = 'Mount Union'"
      ],
      "execution_count": 0,
      "outputs": []
    },
    {
      "cell_type": "code",
      "metadata": {
        "id": "KHeNb8oLaKSe",
        "colab_type": "code",
        "colab": {}
      },
      "source": [
        "# Create the basic figure\n",
        "plt.figure(figsize=(10, 8))\n",
        "sns.barplot(x = 'salary', y = 'President', data = df, \n",
        "            color = 'tomato', edgecolor = 'k', linewidth = 2)\n",
        "\n",
        "# Add text showing values and colleges\n",
        "for i, row in df.iterrows():\n",
        "  plt.text(x = row['salary'] + 6000, y = i + 0.15, s = '$%d' % (round(row['salary'] / 1000) * 1000))\n",
        "  plt.text(x = 5000, y = i + 0.15, s = row['College'], size = 14)\n",
        "\n",
        "# Labels are a must!\n",
        "plt.xticks(size = 16); plt.yticks(size = 18)\n",
        "plt.xlabel('Total Compensation ($)')\n",
        "plt.ylabel('President') \n",
        "plt.title('2015 Compensation of Private Ohio College Presidents');"
      ],
      "execution_count": 0,
      "outputs": []
    },
    {
      "cell_type": "code",
      "metadata": {
        "id": "NEO_bUhSNuWT",
        "colab_type": "code",
        "colab": {}
      },
      "source": [
        "# Calculate value of 5 minutes of your presidents time\n",
        "five_minutes_fraction = 5 / (2000 * 60)\n",
        "total_df = pd.DataFrame(df.groupby('College')['salary'].sum())\n",
        "total_df['five_minutes_cost'] = round(total_df['salary'] * five_minutes_fraction)\n",
        "total_df = total_df.sort_values('five_minutes_cost', ascending = False).reset_index()\n",
        "\n",
        "total_df"
      ],
      "execution_count": 0,
      "outputs": []
    },
    {
      "cell_type": "markdown",
      "metadata": {
        "id": "ctCFhJPlZxAs",
        "colab_type": "text"
      },
      "source": [
        "## Final Product\n",
        "\n",
        "After several attempts (I have not shown all my failures along the way), we can create the final plot: how much are you paying for five minutes of your president's time. I wouldn't say the plot is production quality, but it is a good ending point for this project!"
      ]
    },
    {
      "cell_type": "code",
      "metadata": {
        "id": "wIYvBEASRGnX",
        "colab_type": "code",
        "colab": {}
      },
      "source": [
        "# Text for caption\n",
        "txt = 'Calculated from 2015 Total Compensation assuming 2000 hrs worked/year. Source: Chronical of Higher Education'\n",
        "\n",
        "# Create the basic barplot\n",
        "plt.figure(figsize=(10, 8))\n",
        "sns.barplot(x = 'five_minutes_cost', y = 'College', data = total_df, \n",
        "            color = 'red', edgecolor = 'k', linewidth = 2)\n",
        "\n",
        "# Add the text with the value\n",
        "for i, row in total_df.iterrows():\n",
        "  plt.text(x = row['five_minutes_cost'] + 0.5, y = i + 0.15, \n",
        "           s = '$%d' % (row['five_minutes_cost']), size = 18)\n",
        "\n",
        "# Add the caption\n",
        "plt.text(x = -5, y = 20, s = txt, size = 14)\n",
        "\n",
        "# Add the labels\n",
        "plt.xticks(size = 16); plt.yticks(size = 18)\n",
        "plt.xlabel('Value ($)')\n",
        "plt.ylabel('') \n",
        "plt.title(\"Value of Five Minutes of Your President's Time\");"
      ],
      "execution_count": 0,
      "outputs": []
    },
    {
      "cell_type": "code",
      "metadata": {
        "id": "JDt9iuHnV8qy",
        "colab_type": "code",
        "colab": {}
      },
      "source": [
        ""
      ],
      "execution_count": 0,
      "outputs": []
    }
  ]
}